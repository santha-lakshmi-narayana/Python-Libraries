{
 "cells": [
  {
   "cell_type": "code",
   "execution_count": 129,
   "metadata": {},
   "outputs": [],
   "source": [
    "import pickle\n",
    "import bz2"
   ]
  },
  {
   "cell_type": "code",
   "execution_count": 130,
   "metadata": {},
   "outputs": [],
   "source": [
    "top_armed={'America':1,'Russia':2,'China':3,'India':4,'Japan':5,'South Korea':6,'France':7,'Italy':8,'United Kingdom':9,'Germany':10}"
   ]
  },
  {
   "cell_type": "code",
   "execution_count": 131,
   "metadata": {},
   "outputs": [],
   "source": [
    "pickle_file=\"TOP_MILITARY.pickle\"\n",
    "output_file=open(pickle_file,'wb')"
   ]
  },
  {
   "cell_type": "code",
   "execution_count": 132,
   "metadata": {},
   "outputs": [],
   "source": [
    "pickle.dump(top_armed,output_file)\n",
    "output_file.close()"
   ]
  },
  {
   "cell_type": "code",
   "execution_count": 133,
   "metadata": {},
   "outputs": [
    {
     "name": "stdout",
     "output_type": "stream",
     "text": [
      "1   America\n",
      "2   Russia\n",
      "3   China\n",
      "4   India\n",
      "5   Japan\n",
      "6   South Korea\n",
      "7   France\n",
      "8   Italy\n",
      "9   United Kingdom\n",
      "10   Germany\n"
     ]
    }
   ],
   "source": [
    "input_file=open(pickle_file,\"rb\")\n",
    "new_dict=pickle.load(input_file)\n",
    "for i,j in new_dict.items():\n",
    "    print(j,' ',i)\n",
    "input_file.close()"
   ]
  },
  {
   "cell_type": "code",
   "execution_count": 134,
   "metadata": {},
   "outputs": [],
   "source": [
    "output_file=open(pickle_file,'ab')\n",
    "top_navy={'America':1,'China':2,'Russia':3,'Japan':4,'United Kingdom':5,'France':6,'India':7,'South Korea':8,'Italy':9,'Taiwan':10}\n",
    "top_airforce={'America':1,'Russia':2,'China':3,'India':4,'United Kingdom':5,'Israel':6,'France':7,'Turkey':8,'Germany':9,'Japan':10}\n",
    "pickle.dump(top_navy,output_file)\n",
    "pickle.dump(top_airforce,output_file)\n",
    "output_file.close()"
   ]
  },
  {
   "cell_type": "code",
   "execution_count": 135,
   "metadata": {},
   "outputs": [
    {
     "name": "stdout",
     "output_type": "stream",
     "text": [
      "1   America\n",
      "2   Russia\n",
      "3   China\n",
      "4   India\n",
      "5   Japan\n",
      "6   South Korea\n",
      "7   France\n",
      "8   Italy\n",
      "9   United Kingdom\n",
      "10   Germany\n",
      "\n",
      "1   America\n",
      "2   China\n",
      "3   Russia\n",
      "4   Japan\n",
      "5   United Kingdom\n",
      "6   France\n",
      "7   India\n",
      "8   South Korea\n",
      "9   Italy\n",
      "10   Taiwan\n",
      "\n",
      "1   America\n",
      "2   Russia\n",
      "3   China\n",
      "4   India\n",
      "5   United Kingdom\n",
      "6   Israel\n",
      "7   France\n",
      "8   Turkey\n",
      "9   Germany\n",
      "10   Japan\n",
      "\n"
     ]
    }
   ],
   "source": [
    "input_file=open(pickle_file,\"rb\")\n",
    "new_dict=[]\n",
    "while True:\n",
    "    try:\n",
    "        new_dict.append(pickle.load(input_file))\n",
    "    except EOFError:\n",
    "        break\n",
    "for i in new_dict:\n",
    "    for key,value in i.items():\n",
    "        print(value,' ',key)\n",
    "    print()"
   ]
  },
  {
   "cell_type": "markdown",
   "metadata": {},
   "source": [
    "## Compressing the Pickle File to bzip2"
   ]
  },
  {
   "cell_type": "code",
   "execution_count": 88,
   "metadata": {},
   "outputs": [],
   "source": [
    "comp_file=bz2.BZ2File('Comp_Top_Military','wb')\n",
    "pickle.dump(new_dict,comp_file)\n",
    "comp_file.close()"
   ]
  },
  {
   "cell_type": "code",
   "execution_count": 136,
   "metadata": {},
   "outputs": [
    {
     "name": "stdout",
     "output_type": "stream",
     "text": [
      "[{'America': 1, 'Russia': 2, 'China': 3, 'India': 4, 'Japan': 5, 'South Korea': 6, 'France': 7, 'Italy': 8, 'United Kingdom': 9, 'Germany': 10}, {'America': 1, 'China': 2, 'Russia': 3, 'Japan': 4, 'United Kingdom': 5, 'France': 6, 'India': 7, 'South Korea': 8, 'Italy': 9, 'Taiwan': 10}, {'America': 1, 'Russia': 2, 'China': 3, 'India': 4, 'United Kingdom': 5, 'Israel': 6, 'France': 7, 'Turkey': 8, 'Germany': 9, 'Japan': 10}]\n"
     ]
    }
   ],
   "source": [
    "comp_file=bz2.BZ2File('Comp_Top_Military','rb')\n",
    "print(pickle.load(comp_file))\n",
    "comp_file.close()"
   ]
  },
  {
   "cell_type": "code",
   "execution_count": null,
   "metadata": {},
   "outputs": [],
   "source": []
  }
 ],
 "metadata": {
  "kernelspec": {
   "display_name": "Python 3",
   "language": "python",
   "name": "python3"
  },
  "language_info": {
   "codemirror_mode": {
    "name": "ipython",
    "version": 3
   },
   "file_extension": ".py",
   "mimetype": "text/x-python",
   "name": "python",
   "nbconvert_exporter": "python",
   "pygments_lexer": "ipython3",
   "version": "3.7.1"
  }
 },
 "nbformat": 4,
 "nbformat_minor": 2
}
