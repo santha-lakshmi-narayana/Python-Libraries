{
 "cells": [
  {
   "cell_type": "code",
   "execution_count": 7,
   "metadata": {},
   "outputs": [],
   "source": [
    "from tqdm import tqdm,trange\n",
    "from tqdm import tqdm_notebook as tqdmn\n",
    "import time"
   ]
  },
  {
   "cell_type": "code",
   "execution_count": 2,
   "metadata": {},
   "outputs": [
    {
     "name": "stderr",
     "output_type": "stream",
     "text": [
      "100%|███████████████████████████████████████████████████████████████████████| 10000/10000 [00:00<00:00, 3304162.60it/s]\n"
     ]
    }
   ],
   "source": [
    "for i in tqdm(range(10000)):\n",
    "    pass"
   ]
  },
  {
   "cell_type": "code",
   "execution_count": 3,
   "metadata": {},
   "outputs": [
    {
     "name": "stderr",
     "output_type": "stream",
     "text": [
      "Processing Iteration 10: 100%|█████████████████████████████████████████████████████████| 10/10 [00:02<00:00,  3.85it/s]\n"
     ]
    }
   ],
   "source": [
    "pbar = tqdm(range(10))\n",
    "for i in pbar:\n",
    "    time.sleep(0.25)\n",
    "    pbar.set_description(\"Processing Iteration %i\" % (i+1))\n",
    "pbar.close()"
   ]
  },
  {
   "cell_type": "code",
   "execution_count": 4,
   "metadata": {},
   "outputs": [
    {
     "name": "stderr",
     "output_type": "stream",
     "text": [
      "processing 999: 100%|██████████████████████████████████████████████████████████████| 1.00k/1.00k [00:01<00:00, 654it/s]\n"
     ]
    }
   ],
   "source": [
    "with tqdm(total=1000,unit_scale=True) as pbar:\n",
    "    for i in range(1000):\n",
    "        pbar.set_description(\"processing %d\" % i)\n",
    "        pbar.update(1)"
   ]
  },
  {
   "cell_type": "code",
   "execution_count": 5,
   "metadata": {},
   "outputs": [
    {
     "data": {
      "application/vnd.jupyter.widget-view+json": {
       "model_id": "d72b56bef6944641ab755e230b2a435a",
       "version_major": 2,
       "version_minor": 0
      },
      "text/plain": [
       "HBox(children=(IntProgress(value=0, description='Fisrt Loop', max=3, style=ProgressStyle(description_width='in…"
      ]
     },
     "metadata": {},
     "output_type": "display_data"
    },
    {
     "data": {
      "application/vnd.jupyter.widget-view+json": {
       "model_id": "904e185c42e84fd6a23d45ed7d7770ae",
       "version_major": 2,
       "version_minor": 0
      },
      "text/plain": [
       "HBox(children=(IntProgress(value=0, description='Second Loop', max=1000, style=ProgressStyle(description_width…"
      ]
     },
     "metadata": {},
     "output_type": "display_data"
    },
    {
     "data": {
      "application/vnd.jupyter.widget-view+json": {
       "model_id": "9a14892e88df4403872f2454f3ff9d70",
       "version_major": 2,
       "version_minor": 0
      },
      "text/plain": [
       "HBox(children=(IntProgress(value=0, description='Second Loop', max=1000, style=ProgressStyle(description_width…"
      ]
     },
     "metadata": {},
     "output_type": "display_data"
    },
    {
     "data": {
      "application/vnd.jupyter.widget-view+json": {
       "model_id": "29cb50245fcc4e58a52cb8e36d4f1f6a",
       "version_major": 2,
       "version_minor": 0
      },
      "text/plain": [
       "HBox(children=(IntProgress(value=0, description='Second Loop', max=1000, style=ProgressStyle(description_width…"
      ]
     },
     "metadata": {},
     "output_type": "display_data"
    },
    {
     "name": "stdout",
     "output_type": "stream",
     "text": [
      "\n"
     ]
    }
   ],
   "source": [
    "for i in tqdmn(range(3),desc=\"Fisrt Loop\",leave=True):\n",
    "    for j in tqdmn(range(1000),desc=\"Second Loop\",leave=True):\n",
    "        pass"
   ]
  },
  {
   "cell_type": "code",
   "execution_count": 11,
   "metadata": {},
   "outputs": [
    {
     "data": {
      "application/vnd.jupyter.widget-view+json": {
       "model_id": "4ccdf27036c64b789842582c0af4b894",
       "version_major": 2,
       "version_minor": 0
      },
      "text/plain": [
       "HBox(children=(IntProgress(value=0, description='First Loop', max=5, style=ProgressStyle(description_width='in…"
      ]
     },
     "metadata": {},
     "output_type": "display_data"
    },
    {
     "name": "stderr",
     "output_type": "stream",
     "text": [
      "Second Loop: 100%|███████████████████████████████████████████████| 100000/100000 [00:00<00:00, 2637479.17 iterations/s]\n",
      "Second Loop: 100%|███████████████████████████████████████████████| 100000/100000 [00:00<00:00, 3230089.87 iterations/s]\n",
      "Second Loop: 100%|███████████████████████████████████████████████| 100000/100000 [00:00<00:00, 3129447.05 iterations/s]\n",
      "Second Loop: 100%|███████████████████████████████████████████████| 100000/100000 [00:00<00:00, 2863377.50 iterations/s]\n",
      "Second Loop: 100%|███████████████████████████████████████████████| 100000/100000 [00:00<00:00, 3134100.49 iterations/s]\n"
     ]
    },
    {
     "name": "stdout",
     "output_type": "stream",
     "text": [
      "\n"
     ]
    }
   ],
   "source": [
    "for i in tqdmn(range(5),desc='First Loop',leave=True):\n",
    "    for j in tqdm(range(100000),desc='Second Loop',unit=' iterations',leave=True):\n",
    "        pass"
   ]
  },
  {
   "cell_type": "code",
   "execution_count": 12,
   "metadata": {},
   "outputs": [
    {
     "name": "stderr",
     "output_type": "stream",
     "text": [
      "Loop 50: 100%|█████████████████████████| I:50 N:50 ETA: 00:00 Elps: 00:10 Rate= 4.721024406955717 itr/s , iterations=50\n"
     ]
    }
   ],
   "source": [
    "with tqdm(range(50),unit=' iterations',postfix={'iterations':50},bar_format='{l_bar}{bar}| I:{n} N:{total} ETA: {remaining} Elps: {elapsed} Rate= {rate} itr/s {postfix}') as pbar:\n",
    "    for i in pbar:\n",
    "        for j in range(5000000):\n",
    "            pass\n",
    "        pbar.set_description('Loop %d'% (i+1))\n",
    "        pbar.update(1)"
   ]
  },
  {
   "cell_type": "code",
   "execution_count": null,
   "metadata": {},
   "outputs": [],
   "source": []
  }
 ],
 "metadata": {
  "kernelspec": {
   "display_name": "Python 3",
   "language": "python",
   "name": "python3"
  },
  "language_info": {
   "codemirror_mode": {
    "name": "ipython",
    "version": 3
   },
   "file_extension": ".py",
   "mimetype": "text/x-python",
   "name": "python",
   "nbconvert_exporter": "python",
   "pygments_lexer": "ipython3",
   "version": "3.7.1"
  }
 },
 "nbformat": 4,
 "nbformat_minor": 2
}
