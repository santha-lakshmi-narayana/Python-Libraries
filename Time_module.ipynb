{
 "cells": [
  {
   "cell_type": "code",
   "execution_count": 1,
   "metadata": {},
   "outputs": [],
   "source": [
    "import time"
   ]
  },
  {
   "cell_type": "code",
   "execution_count": 2,
   "metadata": {},
   "outputs": [
    {
     "data": {
      "text/plain": [
       "1567697660.7763798"
      ]
     },
     "execution_count": 2,
     "metadata": {},
     "output_type": "execute_result"
    }
   ],
   "source": [
    "#seconds till from epoch in local time\n",
    "time.time()"
   ]
  },
  {
   "cell_type": "code",
   "execution_count": 3,
   "metadata": {},
   "outputs": [
    {
     "data": {
      "text/plain": [
       "time.struct_time(tm_year=2019, tm_mon=9, tm_mday=5, tm_hour=15, tm_min=34, tm_sec=21, tm_wday=3, tm_yday=248, tm_isdst=0)"
      ]
     },
     "execution_count": 3,
     "metadata": {},
     "output_type": "execute_result"
    }
   ],
   "source": [
    "#time after epoch in utc \n",
    "time.gmtime()"
   ]
  },
  {
   "cell_type": "code",
   "execution_count": 4,
   "metadata": {},
   "outputs": [
    {
     "data": {
      "text/plain": [
       "time.struct_time(tm_year=2019, tm_mon=9, tm_mday=5, tm_hour=21, tm_min=4, tm_sec=22, tm_wday=3, tm_yday=248, tm_isdst=0)"
      ]
     },
     "execution_count": 4,
     "metadata": {},
     "output_type": "execute_result"
    }
   ],
   "source": [
    "#struct_time in local time\n",
    "time.localtime()"
   ]
  },
  {
   "cell_type": "code",
   "execution_count": 5,
   "metadata": {},
   "outputs": [
    {
     "name": "stdout",
     "output_type": "stream",
     "text": [
      "current time in seconds after epoch: 1567697663.684666\n",
      "current time in string format: Thu Sep  5 21:04:23 2019\n",
      "current time from converting time.time():Thu Sep  5 21:04:23 2019\n"
     ]
    }
   ],
   "source": [
    "#get current time\n",
    "print(f'current time in seconds after epoch: {time.time()}')\n",
    "print(f'current time in string format: {time.ctime()}')\n",
    "print(f'current time from converting time.time():{time.ctime()}')"
   ]
  },
  {
   "cell_type": "code",
   "execution_count": 6,
   "metadata": {},
   "outputs": [
    {
     "data": {
      "text/plain": [
       "time.struct_time(tm_year=2019, tm_mon=4, tm_mday=23, tm_hour=7, tm_min=14, tm_sec=59, tm_wday=4, tm_yday=112, tm_isdst=0)"
      ]
     },
     "execution_count": 6,
     "metadata": {},
     "output_type": "execute_result"
    }
   ],
   "source": [
    "# time in tuple format is \n",
    "#(year,month,date,hour,minutes,seconds,week_day,day_number_in_year,is_day_light_saving_enabled)\n",
    "time_tuple=(2019,4,23,7,14,59,4,112,0)\n",
    "time.struct_time(time_tuple)"
   ]
  },
  {
   "cell_type": "code",
   "execution_count": 7,
   "metadata": {},
   "outputs": [
    {
     "name": "stdout",
     "output_type": "stream",
     "text": [
      "Time in seconds without fraction:1567697664.0\n",
      "Actual time: 1567697664.7191534\n"
     ]
    }
   ],
   "source": [
    "#time in seconds from localtime()\n",
    "print(f'Time in seconds without fraction:{time.mktime(time.localtime())}')\n",
    "print(f'Actual time: {time.time()}')"
   ]
  },
  {
   "cell_type": "code",
   "execution_count": 8,
   "metadata": {},
   "outputs": [
    {
     "name": "stdout",
     "output_type": "stream",
     "text": [
      "Time from struct_time: Thu Sep  5 21:04:24 2019\n"
     ]
    }
   ],
   "source": [
    "#convert struct_time to string\n",
    "print(f'Time from struct_time: {time.asctime(time.localtime())}')"
   ]
  },
  {
   "cell_type": "code",
   "execution_count": 9,
   "metadata": {},
   "outputs": [
    {
     "name": "stdout",
     "output_type": "stream",
     "text": [
      "09/05/19\n",
      "04\n",
      "2019\n",
      "2019-09-05\n",
      "Thu Sep  5 21:04:24 2019\n"
     ]
    }
   ],
   "source": [
    "#convert time object to string\n",
    "print(time.strftime('%D',time.localtime())) #date format in mm/dd/yy\n",
    "print(time.strftime('%M',time.localtime())) # minutes\n",
    "print(time.strftime('%Y',time.localtime())) #full year\n",
    "print(time.strftime('%Y-%m-%d',time.localtime())) #iso format yyyy-mm-dd\n",
    "print(time.strftime('%c')) #time in 'Day Mon Date Time Year' "
   ]
  },
  {
   "cell_type": "code",
   "execution_count": 10,
   "metadata": {},
   "outputs": [
    {
     "name": "stdout",
     "output_type": "stream",
     "text": [
      "time.struct_time(tm_year=2019, tm_mon=9, tm_mday=5, tm_hour=21, tm_min=4, tm_sec=24, tm_wday=3, tm_yday=248, tm_isdst=-1)\n",
      "time.struct_time(tm_year=2019, tm_mon=9, tm_mday=5, tm_hour=0, tm_min=0, tm_sec=0, tm_wday=3, tm_yday=248, tm_isdst=-1)\n"
     ]
    }
   ],
   "source": [
    "#convert string to time object\n",
    "print(time.strptime(time.strftime('%c')))\n",
    "print(time.strptime('2019-09-05','%Y-%m-%d'))"
   ]
  },
  {
   "cell_type": "code",
   "execution_count": null,
   "metadata": {},
   "outputs": [],
   "source": []
  }
 ],
 "metadata": {
  "kernelspec": {
   "display_name": "Python 3",
   "language": "python",
   "name": "python3"
  },
  "language_info": {
   "codemirror_mode": {
    "name": "ipython",
    "version": 3
   },
   "file_extension": ".py",
   "mimetype": "text/x-python",
   "name": "python",
   "nbconvert_exporter": "python",
   "pygments_lexer": "ipython3",
   "version": "3.6.8"
  }
 },
 "nbformat": 4,
 "nbformat_minor": 2
}
