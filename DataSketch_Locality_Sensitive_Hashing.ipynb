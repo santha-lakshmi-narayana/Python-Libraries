{
  "nbformat": 4,
  "nbformat_minor": 0,
  "metadata": {
    "colab": {
      "name": "DataSketch Locality Sensitive Hashing.ipynb",
      "version": "0.3.2",
      "provenance": [],
      "collapsed_sections": []
    },
    "kernelspec": {
      "name": "python3",
      "display_name": "Python 3"
    }
  },
  "cells": [
    {
      "metadata": {
        "id": "gquX3vvxfbme",
        "colab_type": "code",
        "colab": {}
      },
      "cell_type": "code",
      "source": [
        "!pip install -q datasketch"
      ],
      "execution_count": 0,
      "outputs": []
    },
    {
      "metadata": {
        "id": "MzK2dej_fp8F",
        "colab_type": "code",
        "colab": {}
      },
      "cell_type": "code",
      "source": [
        "from datasketch import MinHash,MinHashLSH,LeanMinHash,MinHashLSHForest,MinHashLSHEnsemble,WeightedMinHashGenerator\n",
        "#Can Use libMHCUDA GPU speed accelaration"
      ],
      "execution_count": 0,
      "outputs": []
    },
    {
      "metadata": {
        "id": "AIxw2eUQf8pJ",
        "colab_type": "code",
        "colab": {}
      },
      "cell_type": "code",
      "source": [
        "set1 = set(['minhash', 'is', 'a', 'probabilistic', 'data', 'structure', 'for',\n",
        "            'estimating', 'the', 'similarity', 'between', 'datasets'])\n",
        "set2 = set(['minhash', 'is', 'a', 'probability', 'data', 'structure', 'for',\n",
        "            'estimating', 'the', 'similarity', 'between', 'documents'])\n",
        "set3 = set(['minhash', 'is', 'probability', 'data', 'structure', 'for',\n",
        "            'estimating', 'the', 'similarity', 'between', 'documents'])"
      ],
      "execution_count": 0,
      "outputs": []
    },
    {
      "metadata": {
        "id": "C-cH8gv0gDW2",
        "colab_type": "code",
        "colab": {}
      },
      "cell_type": "code",
      "source": [
        "#Create MinHash vectors for sets\n",
        "m1=MinHash(num_perm=128)\n",
        "m2=MinHash(num_perm=128)\n",
        "m3=MinHash(num_perm=128)"
      ],
      "execution_count": 0,
      "outputs": []
    },
    {
      "metadata": {
        "id": "LK6SUlWPiB2y",
        "colab_type": "code",
        "colab": {}
      },
      "cell_type": "code",
      "source": [
        "for d in set1:\n",
        "    m1.update(d.encode('utf8'))\n",
        "for d in set2:\n",
        "    m2.update(d.encode('utf8'))\n",
        "for d in set3:\n",
        "    m3.update(d.encode('utf8'))"
      ],
      "execution_count": 0,
      "outputs": []
    },
    {
      "metadata": {
        "id": "oMaugZ9qi6bH",
        "colab_type": "code",
        "colab": {}
      },
      "cell_type": "code",
      "source": [
        "#Use LeanMinHash if not using updates anymore to save storage(permutations and hashcodes are note stored)\n",
        "l_m1=LeanMinHash(m1)\n",
        "l_m2=LeanMinHash(m2)\n",
        "l_m3=LeanMinHash(m3)"
      ],
      "execution_count": 0,
      "outputs": []
    },
    {
      "metadata": {
        "id": "OGiu2LvrjoCm",
        "colab_type": "code",
        "colab": {}
      },
      "cell_type": "code",
      "source": [
        "#MinHashLSH to get the closest set with given threshold\n",
        "#weights(False Positive,False Negative) equal to 1 which allows to choose band 'b' and rows 'r' \n",
        "#For t=(1/b)^(1/r) Lower 't' for avoid False Negative vice versa\n",
        "lsh=MinHashLSH(threshold=0.7,num_perm=128,weights=(0.5,0.5))\n",
        "lsh.insert(\"m1\",l_m1)\n",
        "lsh.insert(\"m2\",l_m2)"
      ],
      "execution_count": 0,
      "outputs": []
    },
    {
      "metadata": {
        "id": "jP5Yms_DkajI",
        "colab_type": "code",
        "outputId": "9c399c46-01e0-4d1f-ab48-3378457a45d7",
        "colab": {
          "base_uri": "https://localhost:8080/",
          "height": 34
        }
      },
      "cell_type": "code",
      "source": [
        "result=lsh.query(l_m3)\n",
        "result"
      ],
      "execution_count": 0,
      "outputs": [
        {
          "output_type": "execute_result",
          "data": {
            "text/plain": [
              "['m2']"
            ]
          },
          "metadata": {
            "tags": []
          },
          "execution_count": 30
        }
      ]
    },
    {
      "metadata": {
        "id": "hDuku2jlknaz",
        "colab_type": "code",
        "colab": {}
      },
      "cell_type": "code",
      "source": [
        "#Forest to get Top Searches for the given set\n",
        "forest=MinHashLSHForest(num_perm=128)"
      ],
      "execution_count": 0,
      "outputs": []
    },
    {
      "metadata": {
        "id": "R_1Emw3RlP-j",
        "colab_type": "code",
        "colab": {}
      },
      "cell_type": "code",
      "source": [
        "forest.add(\"m1\",l_m1)\n",
        "forest.add(\"m2\",l_m2)"
      ],
      "execution_count": 0,
      "outputs": []
    },
    {
      "metadata": {
        "id": "_mIS5lQblYMx",
        "colab_type": "code",
        "outputId": "b7ead59a-c16b-4843-f749-9447ff780ded",
        "colab": {
          "base_uri": "https://localhost:8080/",
          "height": 34
        }
      },
      "cell_type": "code",
      "source": [
        "#Must call index if not forest don't work on keys\n",
        "forest.index()\n",
        "\"m2\" in forest and \"m1\" in forest"
      ],
      "execution_count": 0,
      "outputs": [
        {
          "output_type": "execute_result",
          "data": {
            "text/plain": [
              "True"
            ]
          },
          "metadata": {
            "tags": []
          },
          "execution_count": 37
        }
      ]
    },
    {
      "metadata": {
        "id": "qxR05UDml2L0",
        "colab_type": "code",
        "outputId": "61469816-8e8f-4e66-c46a-cdc5c33fc8fb",
        "colab": {
          "base_uri": "https://localhost:8080/",
          "height": 34
        }
      },
      "cell_type": "code",
      "source": [
        "result=forest.query(l_m3,2)\n",
        "result"
      ],
      "execution_count": 0,
      "outputs": [
        {
          "output_type": "execute_result",
          "data": {
            "text/plain": [
              "['m2', 'm1']"
            ]
          },
          "metadata": {
            "tags": []
          },
          "execution_count": 39
        }
      ]
    },
    {
      "metadata": {
        "id": "U5057CvCn1lF",
        "colab_type": "code",
        "outputId": "0478af57-08a5-4d0f-f3f2-cd57ce7dc0f6",
        "colab": {
          "base_uri": "https://localhost:8080/",
          "height": 34
        }
      },
      "cell_type": "code",
      "source": [
        "#LSH Ensemble for Containment Searches\n",
        "lshensemble=MinHashLSHEnsemble(threshold=0.8,num_perm=128,num_part=32)\n",
        "lshensemble.index([(\"m2\", l_m2, len(set2)), (\"m1\", l_m1, len(set1))])\n",
        "\"m1\" in lshensemble and \"m2\" in lshensemble"
      ],
      "execution_count": 0,
      "outputs": [
        {
          "output_type": "execute_result",
          "data": {
            "text/plain": [
              "True"
            ]
          },
          "metadata": {
            "tags": []
          },
          "execution_count": 47
        }
      ]
    },
    {
      "metadata": {
        "id": "SlI5W8vroUlf",
        "colab_type": "code",
        "outputId": "e20ecbe4-f9e2-47e0-a765-6a6b6bafb005",
        "colab": {
          "base_uri": "https://localhost:8080/",
          "height": 50
        }
      },
      "cell_type": "code",
      "source": [
        "for key in lshensemble.query(m3,len(set3)):\n",
        "  print(key)"
      ],
      "execution_count": 0,
      "outputs": [
        {
          "output_type": "stream",
          "text": [
            "m2\n",
            "m1\n"
          ],
          "name": "stdout"
        }
      ]
    },
    {
      "metadata": {
        "id": "XFtFvr5f9KfM",
        "colab_type": "code",
        "outputId": "04b41665-3499-44da-9ed0-27adc159e1d8",
        "colab": {
          "base_uri": "https://localhost:8080/",
          "height": 185
        }
      },
      "cell_type": "code",
      "source": [
        "#Weighted MinHash\n",
        "import numpy as np\n",
        "v1=np.random.randint(1,8,10)\n",
        "v2=np.random.randint(1,8,10)\n",
        "v3=np.random.randint(1,8,10)\n",
        "for i,j,k in zip(v1,v2,v3):\n",
        "  print(i,\" \",j,\" \",k)\n",
        "#Provide length of Jaccard Weighted array of constant length\n",
        "wmg=WeightedMinHashGenerator(dim=len(v1),sample_size=5,seed=10)"
      ],
      "execution_count": 0,
      "outputs": [
        {
          "output_type": "stream",
          "text": [
            "2   2   3\n",
            "2   2   2\n",
            "3   1   6\n",
            "7   3   4\n",
            "7   1   6\n",
            "5   2   7\n",
            "2   3   5\n",
            "3   4   5\n",
            "6   7   2\n",
            "6   3   5\n"
          ],
          "name": "stdout"
        }
      ]
    },
    {
      "metadata": {
        "id": "nh0AokNR98_p",
        "colab_type": "code",
        "colab": {}
      },
      "cell_type": "code",
      "source": [
        "m1=wmg.minhash(v1)\n",
        "m2=wmg.minhash(v2)\n",
        "m3=wmg.minhash(v3)\n",
        "lsh=MinHashLSH(threshold=0.4,num_perm=5)\n",
        "lsh.insert(\"m1\",m1)\n",
        "lsh.insert(\"m2\",m2)"
      ],
      "execution_count": 0,
      "outputs": []
    },
    {
      "metadata": {
        "id": "SyKSPzLY-fIw",
        "colab_type": "code",
        "outputId": "5082ec31-7756-4705-bac0-78c748971dd0",
        "colab": {
          "base_uri": "https://localhost:8080/",
          "height": 34
        }
      },
      "cell_type": "code",
      "source": [
        "result=lsh.query(m3)\n",
        "result"
      ],
      "execution_count": 0,
      "outputs": [
        {
          "output_type": "execute_result",
          "data": {
            "text/plain": [
              "['m2', 'm1']"
            ]
          },
          "metadata": {
            "tags": []
          },
          "execution_count": 84
        }
      ]
    },
    {
      "metadata": {
        "id": "hkjWyeVPBGn9",
        "colab_type": "code",
        "colab": {}
      },
      "cell_type": "code",
      "source": [
        ""
      ],
      "execution_count": 0,
      "outputs": []
    }
  ]
}