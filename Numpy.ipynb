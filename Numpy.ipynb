{
  "nbformat": 4,
  "nbformat_minor": 0,
  "metadata": {
    "colab": {
      "name": "Numpy.ipynb",
      "version": "0.3.2",
      "provenance": [],
      "collapsed_sections": []
    },
    "kernelspec": {
      "name": "python3",
      "display_name": "Python 3"
    }
  },
  "cells": [
    {
      "metadata": {
        "id": "8QPa4c0LKKng",
        "colab_type": "code",
        "colab": {}
      },
      "cell_type": "code",
      "source": [
        "import numpy as np"
      ],
      "execution_count": 0,
      "outputs": []
    },
    {
      "metadata": {
        "id": "D13W8HD_LIED",
        "colab_type": "code",
        "outputId": "776be899-22ea-4224-9364-53efabcd435d",
        "colab": {
          "base_uri": "https://localhost:8080/",
          "height": 34
        }
      },
      "cell_type": "code",
      "source": [
        "#Numpy array creation using lists\n",
        "list1=[1,2,3,4]\n",
        "np_a=np.array(list1)\n",
        "np_a"
      ],
      "execution_count": 15,
      "outputs": [
        {
          "output_type": "execute_result",
          "data": {
            "text/plain": [
              "array([1, 2, 3, 4])"
            ]
          },
          "metadata": {
            "tags": []
          },
          "execution_count": 15
        }
      ]
    },
    {
      "metadata": {
        "id": "NEkCvgzgLRs8",
        "colab_type": "code",
        "outputId": "7749c728-2d32-4b3a-f48e-2dad4bc7a9f0",
        "colab": {
          "base_uri": "https://localhost:8080/",
          "height": 34
        }
      },
      "cell_type": "code",
      "source": [
        "#Dtype,conver to other data type\n",
        "np_a=np.array(list1,dtype='object')\n",
        "np_a.astype('float64')"
      ],
      "execution_count": 16,
      "outputs": [
        {
          "output_type": "execute_result",
          "data": {
            "text/plain": [
              "array([1., 2., 3., 4.])"
            ]
          },
          "metadata": {
            "tags": []
          },
          "execution_count": 16
        }
      ]
    },
    {
      "metadata": {
        "id": "LpRKeSHxMWsE",
        "colab_type": "code",
        "colab": {}
      },
      "cell_type": "code",
      "source": [
        "np_a=np.array([[1,3,4],[5,3,-1]],dtype='object')"
      ],
      "execution_count": 0,
      "outputs": []
    },
    {
      "metadata": {
        "id": "7hEul6FbNe48",
        "colab_type": "code",
        "outputId": "0a34e7e1-94d9-4d56-e8fe-99fbe367fa9c",
        "colab": {
          "base_uri": "https://localhost:8080/",
          "height": 34
        }
      },
      "cell_type": "code",
      "source": [
        "np_a.size\n",
        "np_a.shape\n",
        "np_a.dtype\n",
        "np_a.ndim\n",
        "np_a.itemsize"
      ],
      "execution_count": 18,
      "outputs": [
        {
          "output_type": "execute_result",
          "data": {
            "text/plain": [
              "8"
            ]
          },
          "metadata": {
            "tags": []
          },
          "execution_count": 18
        }
      ]
    },
    {
      "metadata": {
        "id": "mmyCRfVrNm_0",
        "colab_type": "code",
        "outputId": "27266ae5-bd1b-401c-bd16-9655b23d72e4",
        "colab": {
          "base_uri": "https://localhost:8080/",
          "height": 34
        }
      },
      "cell_type": "code",
      "source": [
        "#Boolean Indexing\n",
        "b=np_a > 2\n",
        "np_a[b]"
      ],
      "execution_count": 19,
      "outputs": [
        {
          "output_type": "execute_result",
          "data": {
            "text/plain": [
              "array([3, 4, 5, 3], dtype=object)"
            ]
          },
          "metadata": {
            "tags": []
          },
          "execution_count": 19
        }
      ]
    },
    {
      "metadata": {
        "id": "hbR3WI_VN-4V",
        "colab_type": "code",
        "outputId": "f22a8f77-5fcf-4879-93b5-d90b139beb2d",
        "colab": {
          "base_uri": "https://localhost:8080/",
          "height": 34
        }
      },
      "cell_type": "code",
      "source": [
        "#For operations involving whole np array use numpy array for which to be calculated\n",
        "np_a.sum()\n",
        "np_a.std()"
      ],
      "execution_count": 20,
      "outputs": [
        {
          "output_type": "execute_result",
          "data": {
            "text/plain": [
              "1.9790570145063195"
            ]
          },
          "metadata": {
            "tags": []
          },
          "execution_count": 20
        }
      ]
    },
    {
      "metadata": {
        "id": "QFfI5-0YO5sW",
        "colab_type": "code",
        "outputId": "0e62efc6-cad0-4ede-edd9-c8546490d101",
        "colab": {
          "base_uri": "https://localhost:8080/",
          "height": 34
        }
      },
      "cell_type": "code",
      "source": [
        "np.amin(np_a,axis=0)\n",
        "np.cumsum(np_a)\n",
        "np.amax(np_a,axis=1)"
      ],
      "execution_count": 21,
      "outputs": [
        {
          "output_type": "execute_result",
          "data": {
            "text/plain": [
              "array([4, 5], dtype=object)"
            ]
          },
          "metadata": {
            "tags": []
          },
          "execution_count": 21
        }
      ]
    },
    {
      "metadata": {
        "id": "74GOzyXTPTdl",
        "colab_type": "code",
        "outputId": "29004629-db77-444d-a0c4-2f367f376e82",
        "colab": {
          "base_uri": "https://localhost:8080/",
          "height": 34
        }
      },
      "cell_type": "code",
      "source": [
        "#To copy use np.copy()\n",
        "np_b=np_a.copy()\n",
        "np_b[1,1]=-10\n",
        "np_b[1,1] == np_a[1,1]"
      ],
      "execution_count": 22,
      "outputs": [
        {
          "output_type": "execute_result",
          "data": {
            "text/plain": [
              "False"
            ]
          },
          "metadata": {
            "tags": []
          },
          "execution_count": 22
        }
      ]
    },
    {
      "metadata": {
        "id": "KYkxBdj7PmkG",
        "colab_type": "code",
        "outputId": "bd82645d-a2ca-4387-c4e3-23cc5b0444fa",
        "colab": {
          "base_uri": "https://localhost:8080/",
          "height": 67
        }
      },
      "cell_type": "code",
      "source": [
        "#Reshape \n",
        "np_a.reshape(3,-1)"
      ],
      "execution_count": 23,
      "outputs": [
        {
          "output_type": "execute_result",
          "data": {
            "text/plain": [
              "array([[1, 3],\n",
              "       [4, 5],\n",
              "       [3, -1]], dtype=object)"
            ]
          },
          "metadata": {
            "tags": []
          },
          "execution_count": 23
        }
      ]
    },
    {
      "metadata": {
        "id": "6IhxOcXhQE3X",
        "colab_type": "code",
        "outputId": "a823a5cb-c651-4fe5-8fc2-641385c556fa",
        "colab": {
          "base_uri": "https://localhost:8080/",
          "height": 34
        }
      },
      "cell_type": "code",
      "source": [
        "#Range elements \n",
        "np.arange(10)"
      ],
      "execution_count": 24,
      "outputs": [
        {
          "output_type": "execute_result",
          "data": {
            "text/plain": [
              "array([0, 1, 2, 3, 4, 5, 6, 7, 8, 9])"
            ]
          },
          "metadata": {
            "tags": []
          },
          "execution_count": 24
        }
      ]
    },
    {
      "metadata": {
        "id": "CH9MzNAhQH3F",
        "colab_type": "code",
        "outputId": "b8686778-c9e0-476a-f782-006ae3c4edfb",
        "colab": {
          "base_uri": "https://localhost:8080/",
          "height": 34
        }
      },
      "cell_type": "code",
      "source": [
        "np.arange(5,10,2)"
      ],
      "execution_count": 25,
      "outputs": [
        {
          "output_type": "execute_result",
          "data": {
            "text/plain": [
              "array([5, 7, 9])"
            ]
          },
          "metadata": {
            "tags": []
          },
          "execution_count": 25
        }
      ]
    },
    {
      "metadata": {
        "id": "_MdRnlLrQSX4",
        "colab_type": "code",
        "outputId": "72e19f62-a328-409f-8b01-cdcdd0c94967",
        "colab": {
          "base_uri": "https://localhost:8080/",
          "height": 50
        }
      },
      "cell_type": "code",
      "source": [
        "#Between start and stop with equal spacing of given size \n",
        "np.linspace(1,50,10,dtype='float')"
      ],
      "execution_count": 26,
      "outputs": [
        {
          "output_type": "execute_result",
          "data": {
            "text/plain": [
              "array([ 1.        ,  6.44444444, 11.88888889, 17.33333333, 22.77777778,\n",
              "       28.22222222, 33.66666667, 39.11111111, 44.55555556, 50.        ])"
            ]
          },
          "metadata": {
            "tags": []
          },
          "execution_count": 26
        }
      ]
    },
    {
      "metadata": {
        "id": "l4FO3YeQRnHF",
        "colab_type": "code",
        "outputId": "1e9b3680-2b8e-4c3f-cafb-b830e2d85266",
        "colab": {
          "base_uri": "https://localhost:8080/",
          "height": 50
        }
      },
      "cell_type": "code",
      "source": [
        "np.zeros_like(np_a)"
      ],
      "execution_count": 27,
      "outputs": [
        {
          "output_type": "execute_result",
          "data": {
            "text/plain": [
              "array([[0, 0, 0],\n",
              "       [0, 0, 0]], dtype=object)"
            ]
          },
          "metadata": {
            "tags": []
          },
          "execution_count": 27
        }
      ]
    },
    {
      "metadata": {
        "id": "5p1sJjWfRqBe",
        "colab_type": "code",
        "outputId": "0e411ed1-3ddd-4788-c196-dc0e48f1d14f",
        "colab": {
          "base_uri": "https://localhost:8080/",
          "height": 84
        }
      },
      "cell_type": "code",
      "source": [
        "#Random\n",
        "np.random.randint(10,32,(4,5))"
      ],
      "execution_count": 28,
      "outputs": [
        {
          "output_type": "execute_result",
          "data": {
            "text/plain": [
              "array([[25, 19, 27, 21, 17],\n",
              "       [24, 30, 18, 16, 17],\n",
              "       [12, 13, 27, 27, 18],\n",
              "       [26, 10, 12, 12, 25]])"
            ]
          },
          "metadata": {
            "tags": []
          },
          "execution_count": 28
        }
      ]
    },
    {
      "metadata": {
        "id": "c9njklgzURBg",
        "colab_type": "code",
        "outputId": "df29ad39-9b02-4e7e-b83e-a4eac8099406",
        "colab": {
          "base_uri": "https://localhost:8080/",
          "height": 34
        }
      },
      "cell_type": "code",
      "source": [
        "#Choice \n",
        "np_a=np.random.choice(np.random.randint(0,10,size=(10)),size=10,p=(np.zeros((10),dtype='float32')+0.1).tolist())\n",
        "np_a"
      ],
      "execution_count": 29,
      "outputs": [
        {
          "output_type": "execute_result",
          "data": {
            "text/plain": [
              "array([2, 5, 6, 6, 0, 9, 0, 3, 9, 3])"
            ]
          },
          "metadata": {
            "tags": []
          },
          "execution_count": 29
        }
      ]
    },
    {
      "metadata": {
        "id": "vvbpoqYbV6VK",
        "colab_type": "code",
        "outputId": "0bd951d8-fe86-4edf-8e0b-0136c33131b3",
        "colab": {
          "base_uri": "https://localhost:8080/",
          "height": 34
        }
      },
      "cell_type": "code",
      "source": [
        "#Unique returns unique elements and counts of repeating elements\n",
        "unique,counts=np.unique(np_a,return_counts=True)\n",
        "for i,j in zip(unique,counts):\n",
        "  print(i,\":\",j,end='    ')"
      ],
      "execution_count": 30,
      "outputs": [
        {
          "output_type": "stream",
          "text": [
            "0 : 2    2 : 1    3 : 2    5 : 1    6 : 2    9 : 2    "
          ],
          "name": "stdout"
        }
      ]
    },
    {
      "metadata": {
        "id": "-MiekkRlW4xj",
        "colab_type": "code",
        "outputId": "f6c5f8f8-2059-4624-a132-228a84098d54",
        "colab": {
          "base_uri": "https://localhost:8080/",
          "height": 84
        }
      },
      "cell_type": "code",
      "source": [
        "#Where returns flatten indices of true condition \n",
        "np_a=np.random.randint(1,10,size=(4,3))\n",
        "np.random.shuffle(np_a)\n",
        "ind=np.where(np_a > 5,np_a,-1) #np.where(condition,if present , else)\n",
        "np_a"
      ],
      "execution_count": 31,
      "outputs": [
        {
          "output_type": "execute_result",
          "data": {
            "text/plain": [
              "array([[8, 7, 3],\n",
              "       [3, 3, 8],\n",
              "       [5, 3, 1],\n",
              "       [4, 3, 8]])"
            ]
          },
          "metadata": {
            "tags": []
          },
          "execution_count": 31
        }
      ]
    },
    {
      "metadata": {
        "id": "Mo5qoI78X0XR",
        "colab_type": "code",
        "outputId": "a25944b7-9309-4832-8eb4-971a1c3ff747",
        "colab": {
          "base_uri": "https://localhost:8080/",
          "height": 84
        }
      },
      "cell_type": "code",
      "source": [
        "ind"
      ],
      "execution_count": 32,
      "outputs": [
        {
          "output_type": "execute_result",
          "data": {
            "text/plain": [
              "array([[ 8,  7, -1],\n",
              "       [-1, -1,  8],\n",
              "       [-1, -1, -1],\n",
              "       [-1, -1,  8]])"
            ]
          },
          "metadata": {
            "tags": []
          },
          "execution_count": 32
        }
      ]
    },
    {
      "metadata": {
        "id": "hIbN-TNgZ8pE",
        "colab_type": "code",
        "outputId": "703abe52-391c-43e6-bbea-6af65cc2a396",
        "colab": {
          "base_uri": "https://localhost:8080/",
          "height": 34
        }
      },
      "cell_type": "code",
      "source": [
        "#Location of min and max in array\n",
        "np.argmax(np_a,axis=1)"
      ],
      "execution_count": 33,
      "outputs": [
        {
          "output_type": "execute_result",
          "data": {
            "text/plain": [
              "array([0, 2, 0, 2])"
            ]
          },
          "metadata": {
            "tags": []
          },
          "execution_count": 33
        }
      ]
    },
    {
      "metadata": {
        "id": "D3Z5cMuYbll9",
        "colab_type": "code",
        "outputId": "a69acf81-5bfe-4b14-9f47-fe7ac2c86f8e",
        "colab": {
          "base_uri": "https://localhost:8080/",
          "height": 34
        }
      },
      "cell_type": "code",
      "source": [
        "# Vertical Stack Columns should match vice versa for Horizontal Stack\n",
        "a=np.zeros((4,5))\n",
        "b=np.zeros((1,5))\n",
        "np.vstack((a,b)).shape"
      ],
      "execution_count": 34,
      "outputs": [
        {
          "output_type": "execute_result",
          "data": {
            "text/plain": [
              "(5, 5)"
            ]
          },
          "metadata": {
            "tags": []
          },
          "execution_count": 34
        }
      ]
    },
    {
      "metadata": {
        "id": "eA50JV78cmyK",
        "colab_type": "code",
        "outputId": "f0777905-cd5b-4e3e-f313-1803e3758bcf",
        "colab": {
          "base_uri": "https://localhost:8080/",
          "height": 34
        }
      },
      "cell_type": "code",
      "source": [
        "a=np.ones((4,5))\n",
        "b=np.zeros((4,2))\n",
        "np.hstack((a,b)).shape"
      ],
      "execution_count": 35,
      "outputs": [
        {
          "output_type": "execute_result",
          "data": {
            "text/plain": [
              "(4, 7)"
            ]
          },
          "metadata": {
            "tags": []
          },
          "execution_count": 35
        }
      ]
    },
    {
      "metadata": {
        "id": "DPxP_jI1dCv1",
        "colab_type": "code",
        "outputId": "87a25d7e-ac5f-41b7-9b98-8d47adad7e10",
        "colab": {
          "base_uri": "https://localhost:8080/",
          "height": 34
        }
      },
      "cell_type": "code",
      "source": [
        "np.r_[[1,2],4,5,np.ones((5))]"
      ],
      "execution_count": 36,
      "outputs": [
        {
          "output_type": "execute_result",
          "data": {
            "text/plain": [
              "array([1., 2., 4., 5., 1., 1., 1., 1., 1.])"
            ]
          },
          "metadata": {
            "tags": []
          },
          "execution_count": 36
        }
      ]
    },
    {
      "metadata": {
        "id": "IpCBb2RUg6zv",
        "colab_type": "code",
        "outputId": "a52ffda6-c0ab-4604-fb1f-8e1dd5bee4e6",
        "colab": {
          "base_uri": "https://localhost:8080/",
          "height": 34
        }
      },
      "cell_type": "code",
      "source": [
        "#Ravel() flattens the ndim array into 1D with reference to actual array which is not in case of flatten()\n",
        "np_a=np.random.randint(1,5,size=(3,2))\n",
        "a=np_a.flatten()\n",
        "b=np_a.ravel()\n",
        "a[1]=10\n",
        "a[1]==b[1]"
      ],
      "execution_count": 37,
      "outputs": [
        {
          "output_type": "execute_result",
          "data": {
            "text/plain": [
              "False"
            ]
          },
          "metadata": {
            "tags": []
          },
          "execution_count": 37
        }
      ]
    }
  ]
}